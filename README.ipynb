### 2021 Mutual Fund Capital Gains Distribution Schedule

Introduction

Using web-scraping techniques, we have acquired capital gains distribution information for some of the financial industry's largest mutual fund companies. Today, mutual fund companies release this information through their individual websites, which makes it difficult for financial advisors and investors to monitor and act on. We have worked to consolidate this data and make it easier to consume and distribute.

According to InvestmentNews, the top 100 mutual fund companies manage roughly $6.3T in assets (Source: https://bit.ly/3FTf4J6). However, the top 10 companies alone manage about $4.3T in assets, which is 67% of the aforementioned $6.3T total (Source: https://bit.ly/3FTf4J6). Based on these figures, we feel that by focusing on the top companies in the industry, we have produced a dataset that has broad value.

Team Members

Mattock Callahan (mattock.callahan@drexel.edu), Aakanksha Rao (apr69@drexel.edu), Sreerekha Rajendran (sr3547@drexel.edu), Martin Mathew (martin.mathew@drexel.edu)

Key Libraries & Tools

Python Libraries:
Pandas
PDFPlumber
Selenium

Use Cases
If you are a financial advisor whose clients hold mutual funds in taxable investment accounts, the final months of the year are critical when it comes to managing taxes for your customers. Mutual funds are regularly buying and selling stocks, and the tax liabilities that are generated when a fund sells a stock are typically passed on to the investor via capital gains distributions at the end of the calendar year.

By collecting and centralizing the capital gains distribution schedules of some of the top mutual fund companies in the industry, this data can provide financial advisors (and even independent investors) with a research tool that will enable them to make more tax-efficient investment decisions. Ultimately, the advisor or end investor will have to decide which scenario makes the most sense for their specific situation: accept the distribution and its associated liability, or sell the fund and pay tax on any gains since the purchase date.

Data Origins
The key datapoints that we focused on are:

The total "per-share" or "percent of share price" capital gains that will be distributed for each mutual fund
The date upon which the capital gains will be distributed
Data Point #1 (the distribution) is created when the mutual fund sells one of its underlying positions. The relative size of the distribution depends on how long the mutual fund has held this position, and the total appreciation of the position since its original purchase.

Data Point #2 (distribution date) is determined by the mutual fund company, but typically capital gains are distributed in Decemeber.

Data Limitations & Potential Improvements
Part of what made this project appealing to us is how difficult it currently is to gather this information from the various sources. Each company's website is formatted differently, and some firms only release this information via PDF, or by other means entirely. The timing of the releases also makes this challenging, as each firm releases this information on a different schedule. As a result, we monitored each of our target firms, so that we were ready when the information became available.

Ultimately, we were successful in collecting and standardizing this data across our target firms. However, there are a number of future enrichment opportunities for this dataset. For example, it would be very valuable to have "Ticker" for all funds in this dataset. This datapoint was not always available to us, but its inclusion would simplify future integrations. Additionally, complete Ticker data would allow us to add additional context to the data, such as "Current Share Price" via the Yahoo Finance API.

Access Rights & Distribution
Mutual fund companies are legally required to disclose this information, so we do not forsee any rights issues with regard to the collection of this data.

Additionally, there were no rate limits or specific page blocks put in place by the firms via the various Robots.txt files.

Ideally, we would like to make this information available to financial advisors and independent investors. Currently, it's possible to pay firms such as CapGainsValet to collect this type of information, but this particular service charges a per-mutual fund collection fee. We can foresee a scenario where investment managers or technology platforms would want to license this dataset as an alternative to services such as CapGainsValet.

Conclusion
We believe that this particular project has offered us a great opportunity to develop our data aquisition skills in a significant way. We were forced to master new tools and techniques, while working as a team to create a unique dataset that is not easily accessible today. Critical processes across many industries still rely on manual data acquisition and entry, and it is no different within the financial industry. For this reason, we believe that the automated collection of capital gains distribution data has been a great exercise for us, and that the result is a valuable dataset that has a number of significant use cases.
